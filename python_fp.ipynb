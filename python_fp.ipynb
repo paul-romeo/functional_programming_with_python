{
 "metadata": {
  "language_info": {
   "codemirror_mode": {
    "name": "ipython",
    "version": 3
   },
   "file_extension": ".py",
   "mimetype": "text/x-python",
   "name": "python",
   "nbconvert_exporter": "python",
   "pygments_lexer": "ipython3",
   "version": "3.8.5-final"
  },
  "orig_nbformat": 2,
  "kernelspec": {
   "name": "python38564bitb7a15ca74f72451c945c2980c2516e34",
   "display_name": "Python 3.8.5 64-bit"
  }
 },
 "nbformat": 4,
 "nbformat_minor": 2,
 "cells": [
  {
   "cell_type": "code",
   "execution_count": null,
   "metadata": {},
   "outputs": [],
   "source": []
  },
  {
   "cell_type": "code",
   "execution_count": 1,
   "metadata": {},
   "outputs": [
    {
     "output_type": "stream",
     "name": "stdout",
     "text": [
      "Hello Paul Romeo\nDoing some time-consuming real data operation\n7.0\n"
     ]
    }
   ],
   "source": [
    "#########################################################################\n",
    "# \n",
    "# FUNCTIONS AS DATA...\n",
    "# \n",
    "#########################################################################\n",
    "def sayHello(name):\n",
    "    print(f'Hello {name}')\n",
    "\n",
    "# Treat function sayHello as data \n",
    "sayHello2 = sayHello\n",
    "sayHello2(\"Paul Romeo\")\n",
    "\n",
    "#########################################################################\n",
    "ENVIRONMENT = \"prod\"\n",
    "\n",
    "def fetchRealData():\n",
    "    print(\"Doing some time-consuming real data operation\")\n",
    "\n",
    "def fetchFakeData():\n",
    "    print(\"Returning fake data\")\n",
    "\n",
    "\n",
    "# Treat functions fetchRealData and fetchFakeData as data \n",
    "fetchData = fetchRealData() if ENVIRONMENT == \"prod\" else fetchFakeData()\n",
    "#########################################################################\n",
    "\n",
    "import math \n",
    "\n",
    "def double(x):\n",
    "    return 2 * x\n",
    "\n",
    "def minus1(x):\n",
    "    return x -1\n",
    "\n",
    "def squared(x):\n",
    "    return x * x \n",
    "\n",
    "# Create a function_list to store the function names as data \n",
    "functionList = [\n",
    "    double, \n",
    "    minus1,\n",
    "    squared,\n",
    "    math.sqrt,   # from the math library \n",
    "]\n",
    "\n",
    "myNumber = 4 \n",
    "\n",
    "# Access to all functions stored in the functionList sequentially \n",
    "for func in functionList:\n",
    "    myNumber = func(myNumber)\n",
    "\n",
    "print(myNumber)\n",
    "#########################################################################"
   ]
  },
  {
   "cell_type": "code",
   "execution_count": 12,
   "metadata": {},
   "outputs": [
    {
     "output_type": "stream",
     "name": "stdout",
     "text": [
      "5\n-1\n6\n"
     ]
    }
   ],
   "source": [
    "#########################################################################\n",
    "# \n",
    "# PASSING FUNCTIONS AS ARGUMENTS \n",
    "# \n",
    "#########################################################################\n",
    "def add(x,y):\n",
    "    return x+y\n",
    "\n",
    "def subtract(x,y):\n",
    "    return x-y \n",
    "\n",
    "def multiply(x,y):\n",
    "    return x*y\n",
    "\n",
    "def combine2And3(func):\n",
    "    return func(2,3)\n",
    "\n",
    "# Passing function as argument \n",
    "print(combine2And3(add))\n",
    "print(combine2And3(subtract))\n",
    "print(combine2And3(multiply))\n",
    "#########################################################################"
   ]
  },
  {
   "cell_type": "code",
   "execution_count": 13,
   "metadata": {},
   "outputs": [
    {
     "output_type": "stream",
     "name": "stdout",
     "text": [
      "10\n18\n28\n"
     ]
    }
   ],
   "source": [
    "#########################################################################\n",
    "# \n",
    "# RETURNING FUNCTIONS (As opposed to data)\n",
    "# \n",
    "#########################################################################\n",
    "def create_multiplier(byANumber):\n",
    "    def multiplier(value):\n",
    "        return value * byANumber\n",
    "    return multiplier\n",
    "\n",
    "double = create_multiplier(2)\n",
    "triple = create_multiplier(3)\n",
    "quadruple = create_multiplier(4)\n",
    "\n",
    "print(double(5))    # 10 \n",
    "print(triple(6))    # 18 \n",
    "print(quadruple(7)) # 28\n",
    "#########################################################################"
   ]
  },
  {
   "cell_type": "code",
   "execution_count": 3,
   "metadata": {},
   "outputs": [
    {
     "output_type": "stream",
     "name": "stdout",
     "text": [
      "My favorite number is 42\n0\n2\n"
     ]
    }
   ],
   "source": [
    "#########################################################################\n",
    "# \n",
    "# CLOSURE (CAN ONLY ACCESS TO INTERNAL VALUES THROUGH INTERNAL FUNCTIONS)\n",
    "# \n",
    "#########################################################################\n",
    "def create_printer():\n",
    "    \n",
    "    favoriteNumber = 42 \n",
    "\n",
    "    def printer():\n",
    "        print(f'My favorite number is {favoriteNumber}')\n",
    "\n",
    "    return printer\n",
    "\n",
    "myPrinter = create_printer()\n",
    "myPrinter()\n",
    "#########################################################################\n",
    "\n",
    "def create_counter():\n",
    "    \n",
    "    count = 0 \n",
    "\n",
    "    def getCount():\n",
    "        return count \n",
    "\n",
    "   \n",
    "    # function increment adds 1 to the current value of count \n",
    "    def increment():\n",
    "        nonlocal count  # use count from the outer function \n",
    "        count += 1\n",
    "\n",
    "\n",
    "    # Multiple internal functions are included in a tuple for return  \n",
    "    return (getCount, increment)    \n",
    "\n",
    "# Access to getCount and increment functions \n",
    "getCount, increment = create_counter()\n",
    "\n",
    "print(getCount())     # 0 \n",
    "increment()           # count increased to 1 \n",
    "increment()           # count increased to 2\n",
    "print(getCount())     # 2\n",
    "#########################################################################\n"
   ]
  },
  {
   "cell_type": "code",
   "execution_count": 20,
   "metadata": {},
   "outputs": [
    {
     "output_type": "stream",
     "name": "stdout",
     "text": [
      "Warning! the denominator can't be zero\nold_divide(3,0): None\nold_divide(3,2): 1.5\n\nWarning, the denominator can't be zero\nsafe_divide(3,0): None\nsafe_divide(3,2): 1.5\n"
     ]
    }
   ],
   "source": [
    "#########################################################################\n",
    "# \n",
    "# HIGH ORDER FUNCTIONS do the following:  \n",
    "# 1. takes func as an argument\n",
    "# 2. returns func() \n",
    "# \n",
    "#########################################################################\n",
    "# An old way to implement safe divide function results a function performs two different jobs \n",
    "def old_divide(x,y):\n",
    "    if (y == 0): \n",
    "        print(\"Warning! the denominator can't be zero\")\n",
    "        return \n",
    "    \n",
    "    return x / y \n",
    "\n",
    "# old_divide(3,0)\n",
    "old_divide(3,2)\n",
    "#########################################################################\n",
    "def divide(x,y):\n",
    "    return x /y \n",
    "\n",
    "# Function second_argument_isnot_zero is a high-order function as it\n",
    "def second_argument_isnt_zero(func):\n",
    "    def safe_version(*args):# *args: all arguments \n",
    "        if args[1] == 0:    # the value of the second argument is zero \n",
    "            print(\"Warning, the denominator can't be zero\")\n",
    "            return \n",
    "        return func(*args)\n",
    "    return safe_version\n",
    "\n",
    "safe_divide = second_argument_isnt_zero(divide) \n",
    "#########################################################################\n",
    "\n",
    "\n",
    "print(f'old_divide(3,0): {old_divide(3,0)}')\n",
    "print(f'old_divide(3,2): {old_divide(3,2)}')\n",
    "\n",
    "print()\n",
    "\n",
    "print(f'safe_divide(3,0): {safe_divide(3,0)}')\n",
    "print(f'safe_divide(3,2): {safe_divide(3,2)}')\n",
    "#########################################################################"
   ]
  },
  {
   "cell_type": "code",
   "execution_count": 33,
   "metadata": {},
   "outputs": [
    {
     "output_type": "stream",
     "name": "stdout",
     "text": [
      "Building the doubled numbers list of [1, 2, 3, 4, 5, 6, 7, 8, 9] using:\n1. The convention way: [2, 4, 6, 8, 10, 12, 14, 16, 18]\n2. The mapping function: [2, 4, 6, 8, 10, 12, 14, 16, 18]\n"
     ]
    }
   ],
   "source": [
    "#########################################################################\n",
    "# \n",
    "# MAPPING FUNCTION \n",
    "#   Example: list(map(func, numbersList))\n",
    "#\n",
    "#########################################################################\n",
    "\n",
    "numbersList = list(range(1,10))     # 1..9\n",
    "\n",
    "print(f'Building the doubled numbers list of {numbersList} using:')\n",
    "\n",
    "# Convention way to double the number in the list \n",
    "doubledNumbersList = []\n",
    "\n",
    "for number in numbersList:\n",
    "    doubledNumbersList.append(number *2)\n",
    "\n",
    "print(f'1. The convention way: {doubledNumbersList}')\n",
    "#########################################################################\n",
    "# Using mapping functional part \n",
    "def double(x):\n",
    "    return x * 2\n",
    "\n",
    "doubledNumbersListFunctional = list(map(double, numbersList))\n",
    "\n",
    "print(f'2. The mapping function: {doubledNumbersListFunctional}')\n",
    "#########################################################################"
   ]
  },
  {
   "cell_type": "code",
   "execution_count": 36,
   "metadata": {},
   "outputs": [
    {
     "output_type": "stream",
     "name": "stdout",
     "text": [
      "Extracting the list of even numbers from [1, 2, 3, 4, 5, 6, 7, 8, 9] using the filtering function: [2, 4, 6, 8]\n"
     ]
    }
   ],
   "source": [
    "#########################################################################\n",
    "# \n",
    "# FILTERING FUNCTION \n",
    "#   Example: list(filter(func, numbersList))\n",
    "# \n",
    "#########################################################################\n",
    "\n",
    "numbersList = list(range(1,10))     # 1..9\n",
    "\n",
    "\n",
    "def isEven(x):\n",
    "    return x%2 == 0\n",
    "\n",
    "\n",
    "evenNumbersListFunctional = list(filter(isEven, numbersList))\n",
    "print(f'Extracting the list of even numbers from {numbersList} using the filtering function: {evenNumbersListFunctional}')\n",
    "#########################################################################"
   ]
  },
  {
   "cell_type": "code",
   "execution_count": 43,
   "metadata": {},
   "outputs": [
    {
     "output_type": "stream",
     "name": "stdout",
     "text": [
      "Doubling the numbers in the [1, 2, 3, 4, 5, 6, 7, 8, 9] using map and lambda function [2, 4, 6, 8, 10, 12, 14, 16, 18]\n\nExtracting the list of even numbers from [1, 2, 3, 4, 5, 6, 7, 8, 9] using the filtering function: [2, 4, 6, 8]\n\ndouble of 2 is 4\n\ntriple of 3 is 9\n\nquadruple of 4 is 16\n"
     ]
    }
   ],
   "source": [
    "#########################################################################\n",
    "# \n",
    "# LAMBDA FUNCTION: ONE-LINE, UNAMED FUNCTION INSIDE A LARGER EXPRESSIONS \n",
    "#   Example: lambda x,y = x+y\n",
    "#########################################################################\n",
    "\n",
    "numbersList = list(range(1,10))     # 1..9\n",
    "\n",
    "#########################################################################\n",
    "\n",
    "doubledNumbersListFunctional = list(map(lambda x: x*2, numbersList))\n",
    "print(f'Doubling the numbers in the {numbersList} using map and lambda function {doubledNumbersListFunctional}\\n')\n",
    "#########################################################################\n",
    "\n",
    "evenNumbersListFunctional = list(filter(lambda x: x%2==0, numbersList))\n",
    "print(f'Extracting the list of even numbers from {numbersList} using the filtering function: {evenNumbersListFunctional}\\n')\n",
    "#########################################################################\n",
    "\n",
    "\n",
    "# Simplify function createMultiple using lambda expression \n",
    "def createMultiplier(a):\n",
    "    return lambda x: x*a \n",
    "\n",
    "double = createMultiplier(2)\n",
    "triple = createMultiplier(3)\n",
    "quadruple = createMultiplier(4)\n",
    "\n",
    "print(f'double of 2 is {double(2)}\\n')\n",
    "print(f'triple of 3 is {triple(3)}\\n')\n",
    "print(f'quadruple of 4 is {quadruple(4)}')\n",
    "#########################################################################"
   ]
  },
  {
   "cell_type": "code",
   "execution_count": 46,
   "metadata": {},
   "outputs": [
    {
     "output_type": "stream",
     "name": "stdout",
     "text": [
      "Building the doubling numbers in the [1, 2, 3, 4, 5, 6, 7, 8, 9] using list comprehension [2, 4, 6, 8, 10, 12, 14, 16, 18]\n\nBuilding the list of even numbers from [1, 2, 3, 4, 5, 6, 7, 8, 9] using the list comprehension: [2, 4, 6, 8]\n\nBuilding the doubling of even numbers in the [1, 2, 3, 4, 5, 6, 7, 8, 9] using list comprehension [4, 8, 12, 16]\n\n"
     ]
    }
   ],
   "source": [
    "#########################################################################\n",
    "# LIST COMPREHENSIONS CAN BE USED TO REPLACE MAP AND FILTER FUNCTIONS TO REPLACE:\n",
    "#   1. map function: [x*2 for x in numbersList]\n",
    "#   2. filter function: [x for x in numbersList if x%2 == 0]\n",
    "#   3. both filter and map functions: [x*2 for x in numbersList if x%2 == 0]\n",
    "#########################################################################\n",
    "\n",
    "numbersList = list(range(1,10))     # 1..9\n",
    "#########################################################################\n",
    "\n",
    "\n",
    "doubledNumbersListComprehension = [x*2 for x in numbersList]\n",
    "print(f'Building the doubling numbers in the {numbersList} using list comprehension {doubledNumbersListComprehension}\\n')\n",
    "\n",
    "evenNumbersListComprehension = [x for x in numbersList if x%2 == 0]\n",
    "print(f'Building the list of even numbers from {numbersList} using the list comprehension: {evenNumbersListComprehension}\\n')\n",
    "\n",
    "evenEvenNumbersListComprehension = [x*2 for x in numbersList if x%2 == 0]\n",
    "print(f'Building the doubling of even numbers in the {numbersList} using list comprehension {evenEvenNumbersListComprehension}\\n')\n",
    "#########################################################################\n"
   ]
  },
  {
   "cell_type": "code",
   "execution_count": 31,
   "metadata": {},
   "outputs": [
    {
     "output_type": "stream",
     "name": "stdout",
     "text": [
      "The sum of [1, 2, 3, 4] is 10\nThe product of [1, 2, 3, 4] is 24\n"
     ]
    }
   ],
   "source": [
    "#########################################################################\n",
    "# REDUCE FUNCTION REDUCES ALL ELEMENTS IN THE LIST INTO ONE FINAL VALUE \n",
    "#   NEED: from functools import reduce   \n",
    "#   Example:\n",
    "#     reduce(f, myList, initialValue) where f is the function that takes 2 arguments: acc, element\n",
    "#########################################################################\n",
    "\n",
    "numbersList = list(range(1,5))     # [1,2,3,4,5]\n",
    "#########################################################################\n",
    "from functools import reduce \n",
    "from operator import add, mul\n",
    "\n",
    "\n",
    "print(f'The sum of {numbersList} is {reduce(add, numbersList, 0)}')\n",
    "#########################################################################\n",
    "\n",
    "print(f'The product of {numbersList} is {reduce(mul, numbersList, 1)}')"
   ]
  },
  {
   "cell_type": "code",
   "execution_count": 33,
   "metadata": {},
   "outputs": [
    {
     "output_type": "stream",
     "name": "stdout",
     "text": [
      "The list of developers: [{'name': 'Jane', 'salary': 90000, 'job_title': 'developer'}, {'name': 'Dennis', 'salary': 95000, 'job_title': 'developer'}, {'name': 'Anna', 'salary': 100000, 'job_title': 'developer'}]\n\nThe list of developer salaries: [90000, 95000, 100000]\n\nThe sum of all developer salaries: 285000\n\nThe average developer salary: 95000\n\nfactorialHOF(5): 120\n"
     ]
    }
   ],
   "source": [
    "#########################################################################\n",
    "# COMBINING FUNCTIONS FILTER, MAP, AND REDUCE \n",
    "#   NEED: from functools import reduce   \n",
    "#   Example:\n",
    "#     reduce(f, myList, initialValue) where f is the function that takes 2 arguments: acc, element\n",
    "#########################################################################\n",
    "employees = [{\n",
    "    'name': 'Jane',\n",
    "    'salary': 90000,\n",
    "    'job_title': 'developer'\n",
    "}, {\n",
    "    'name': 'Bill',\n",
    "    'salary': 50000,\n",
    "    'job_title': 'writer'\n",
    "}, {\n",
    "    'name': 'Kathy',\n",
    "    'salary': 120000,\n",
    "    'job_title': 'executive'\n",
    "}, {\n",
    "    'name': 'Albert',\n",
    "    'salary': 70000,\n",
    "    'job_title': 'marketing specialist'\n",
    "}, {\n",
    "    'name': 'Dennis',\n",
    "    'salary': 95000,\n",
    "    'job_title': 'developer'\n",
    "}, {\n",
    "    'name': 'Anna',\n",
    "    'salary': 100000,\n",
    "    'job_title': 'developer'\n",
    "}]\n",
    "#########################################################################\n",
    "def is_developer(employee):\n",
    "    return employee['job_title'] == 'developer'\n",
    "\n",
    "\n",
    "developers = list(filter(is_developer, employees))\n",
    "print(f'The list of developers: {developers}\\n')\n",
    "#########################################################################\n",
    "def get_salary(employee):\n",
    "    return employee['salary']\n",
    "\n",
    "\n",
    "developerSalaries = list(map(get_salary, developers))\n",
    "print(f'The list of developer salaries: {developerSalaries}\\n')\n",
    "#########################################################################\n",
    "from functools import reduce\n",
    "from operator import add, mul\n",
    "from statistics import mean\n",
    "\n",
    "\n",
    "totalDeveloperSalaries = reduce(add, developerSalaries, 0)\n",
    "print(f'The sum of all developer salaries: {totalDeveloperSalaries}\\n')\n",
    "\n",
    "averageDeveloperSalary = mean(developerSalaries)\n",
    "print(f'The average developer salary: {averageDeveloperSalary}\\n')\n",
    "#########################################################################\n",
    "\n",
    "def factorialHOF(n):\n",
    "    return reduce(mul, range(1, n+1), 1)\n",
    "\n",
    "print(f'factorialHOF(5): {factorialHOF(5)}')\n",
    "#########################################################################"
   ]
  },
  {
   "cell_type": "code",
   "execution_count": 26,
   "metadata": {},
   "outputs": [
    {
     "output_type": "stream",
     "name": "stdout",
     "text": [
      "The list of developer salaries: [90000, 95000, 100000]\n\nThe average developer salary: 95000.0\n\nquicksort([4,5,3,2,1]): [1, 2, 3, 4, 5]\n"
     ]
    }
   ],
   "source": [
    "#########################################################################\n",
    "# LIST COMPREHENSION USED TO COMBINE THE FILTER AND MAP FUNCTIONS  \n",
    "#########################################################################\n",
    "# Create a list of employees \n",
    "employees = [{\n",
    "    'name': 'Jane',\n",
    "    'salary': 90000,\n",
    "    'job_title': 'developer'\n",
    "}, {\n",
    "    'name': 'Bill',\n",
    "    'salary': 50000,\n",
    "    'job_title': 'writer'\n",
    "}, {\n",
    "    'name': 'Kathy',\n",
    "    'salary': 120000,\n",
    "    'job_title': 'executive'\n",
    "}, {\n",
    "    'name': 'Albert',\n",
    "    'salary': 70000,\n",
    "    'job_title': 'marketing specialist'\n",
    "}, {\n",
    "    'name': 'Dennis',\n",
    "    'salary': 95000,\n",
    "    'job_title': 'developer'\n",
    "}, {\n",
    "    'name': 'Anna',\n",
    "    'salary': 100000,\n",
    "    'job_title': 'developer'\n",
    "}]\n",
    "#########################################################################\n",
    "# Using list comprehension to combine both filtering and mapping functions in one statement \n",
    "developerSalaries = [employee['salary'] for employee in employees if employee['job_title'] == 'developer']\n",
    "print(f'The list of developer salaries: {developerSalaries}\\n')\n",
    "\n",
    "averageDeveloperSalaries = sum(developerSalaries) / len(developerSalaries)\n",
    "print(f'The average developer salary: {averageDeveloperSalaries}\\n')\n",
    "#########################################################################\n",
    "def quicksort(lst):\n",
    "    \"Quicksort over a list-like sequence\"\n",
    "    if len(lst) == 0:\n",
    "        return lst\n",
    "\n",
    "    pivot = lst[0]\n",
    "    pivots = [x for x in lst if x == pivot]\n",
    "    small = quicksort([x for x in lst if x < pivot])\n",
    "    large = quicksort([x for x in lst if x > pivot])\n",
    "    return small + pivots + large\n",
    "\n",
    "print(f'quicksort([4,5,3,2,1]): {quicksort([4,5,3,2,1])}')"
   ]
  },
  {
   "cell_type": "code",
   "execution_count": 41,
   "metadata": {},
   "outputs": [
    {
     "output_type": "stream",
     "name": "stdout",
     "text": [
      "Convention add function...\nadd(5,6,7):\t 18\n\nPartial functions...\nadd5(6,7):\t 18\nadd5And6(7):\t 18\n\nManual curry functions...\nadd5And6(7):\t 18\ncurryAdd(5)(6)(7): 18\n\nUse Partial function to implement the curry function\nadd5And6And7: 18\nadd5And6And8: 19\n"
     ]
    }
   ],
   "source": [
    "#########################################################################\n",
    "# PARTIAL AND CURRY FUNCTIONS \n",
    "#   NEED: from functools import partial for the true curry function    \n",
    "#   Advantage of curried functions is some partial functions may be \n",
    "#       spunt out for different results, thus reduce duplications \n",
    "#########################################################################\n",
    "def add(x,y,z):\n",
    "    return x+y+z \n",
    "print(\"Convention add function...\")\n",
    "print(f'add(5,6,7):\\t {add(5,6,7)}')\n",
    "#########################################################################\n",
    "# Partial function 1 \n",
    "def addPartial(x):\n",
    "    def addOthers(y, z):\n",
    "        return x + y + z \n",
    "    return addOthers\n",
    "print(\"\\nPartial functions...\")\n",
    "\n",
    "add5 = addPartial(5)\n",
    "print(f'add5(6,7):\\t {add5(6,7)}')\n",
    "#########################################################################\n",
    "# Partial function 2 \n",
    "def addPartial2(x, y):\n",
    "    def addOthers(z):\n",
    "        return x + y + z \n",
    "    return addOthers\n",
    "\n",
    "add5And6 = addPartial2(5, 6)\n",
    "print(f'add5And6(7):\\t {add5And6(7)}')\n",
    "#########################################################################\n",
    "# Manually curry\n",
    "def curryAdd(x):\n",
    "    def curryAddInner(y):\n",
    "        def curryAddInner2(z):\n",
    "            return x + y + z\n",
    "        return curryAddInner2\n",
    "    return curryAddInner\n",
    "\n",
    "add5 = curryAdd(5)\n",
    "add5And6 = add5(6)\n",
    "print(\"\\nManual curry functions...\")\n",
    "print(f'add5And6(7):\\t {add5And6(7)}')\n",
    "print(f'curryAdd(5)(6)(7): {curryAdd(5)(6)(7)}')\n",
    "#########################################################################\n",
    "# Built-in curry function \n",
    "from functools import partial \n",
    "\n",
    "add5 = partial(add, 5)\n",
    "add5And6s = partial(add5, 6)\n",
    "add5And6And7 = add5And6s(7)  # can't use partial because it's the last number \n",
    "add5And6And8 = add5And6s(8)  # spunt out from add5And6 to add 8 \n",
    "print(\"\\nUse Partial function to implement the curry function\")\n",
    "print(f'add5And6And7: {add5And6And7}')\n",
    "print(f'add5And6And8: {add5And6And8}')\n",
    "#########################################################################"
   ]
  },
  {
   "cell_type": "code",
   "execution_count": 24,
   "metadata": {},
   "outputs": [
    {
     "output_type": "stream",
     "name": "stdout",
     "text": [
      "\nCount down to 0:\n10\n9\n8\n7\n6\n5\n4\n3\n2\n1\n0\n\nCount up to 10:\n0\n1\n2\n3\n4\n5\n6\n7\n8\n9\n10\n\nFactorial of\n 5 => 120\n 0 => 1\n"
     ]
    }
   ],
   "source": [
    "#########################################################################\n",
    "# RECURSIVE FUNCTIONS CAN BE USED TO IMPLEMENT LOOPING, FACTORIAL, SUM, PRODUCT, ETC. \n",
    "#   \n",
    "#########################################################################\n",
    "def countDown(x, minimum):\n",
    "    # Exit the function when the value reaches the minimum value \n",
    "    if (x < minimum):\n",
    "        return            \n",
    "\n",
    "    print(x)\n",
    "    countDown(x-1, 0)\n",
    "\n",
    "print(\"\\nCount down to 0:\")\n",
    "countDown(10, 0)\n",
    "#########################################################################\n",
    "def countUp(x, maximum):\n",
    "    # Exit the function when the value reached the maximum value \n",
    "    if (x > maximum):\n",
    "        return  \n",
    "\n",
    "    print(x)\n",
    "    countUp(x+1, 10)\n",
    "\n",
    "print(\"\\nCount up to 10:\")\n",
    "countUp(0, 10)\n",
    "#########################################################################\n",
    "def factorialR(N):\n",
    "    return 1 if N <= 1 else N * factorialR(N-1)\n",
    "\n",
    "print(\"\\nFactorial of\")\n",
    "print(f' 5 => {factorialR(5)}')\n",
    "print(f' 0 => {factorialR(0)}')"
   ]
  }
 ]
}